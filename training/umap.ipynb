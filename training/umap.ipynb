{
 "cells": [
  {
   "cell_type": "code",
   "execution_count": 1,
   "id": "3532b73f",
   "metadata": {},
   "outputs": [
    {
     "name": "stderr",
     "output_type": "stream",
     "text": [
      "c:\\Users\\sollb\\Documents\\fhnw\\ip5\\IP5-Jass-AI\\training\\.venv\\Lib\\site-packages\\tqdm\\auto.py:21: TqdmWarning: IProgress not found. Please update jupyter and ipywidgets. See https://ipywidgets.readthedocs.io/en/stable/user_install.html\n",
      "  from .autonotebook import tqdm as notebook_tqdm\n"
     ]
    }
   ],
   "source": [
    "import umap\n",
    "import torch\n",
    "from torch.functional import F\n",
    "import os\n",
    "import numpy as np\n",
    "import matplotlib.pyplot as plt\n",
    "from tqdm import tqdm\n",
    "\n",
    "from common import h5dataset, model_dnn"
   ]
  },
  {
   "cell_type": "code",
   "execution_count": 2,
   "id": "a41fd82f",
   "metadata": {},
   "outputs": [],
   "source": [
    "DATASET_PATH = '../log_parser/dataset/flat_playing.hdf5'\n",
    "if not os.path.exists(DATASET_PATH):\n",
    "    raise FileNotFoundError(f\"Dataset not found at {DATASET_PATH}\")\n",
    "\n",
    "MODLE_PATH = './models/'\n",
    "if not os.path.exists(MODLE_PATH):\n",
    "    os.makedirs(MODLE_PATH)\n"
   ]
  },
  {
   "cell_type": "code",
   "execution_count": 3,
   "id": "ba916e7b",
   "metadata": {},
   "outputs": [
    {
     "data": {
      "text/plain": [
       "ModelDNN(\n",
       "  (embedding): Embedding(37, 13)\n",
       "  (flat): Flatten(start_dim=1, end_dim=-1)\n",
       "  (layers): Sequential(\n",
       "    (0): Linear(in_features=936, out_features=512, bias=True)\n",
       "    (1): ReLU()\n",
       "    (2): Linear(in_features=512, out_features=256, bias=True)\n",
       "    (3): ReLU()\n",
       "    (4): Linear(in_features=256, out_features=128, bias=True)\n",
       "    (5): ReLU()\n",
       "    (6): Linear(in_features=128, out_features=9, bias=True)\n",
       "  )\n",
       ")"
      ]
     },
     "execution_count": 3,
     "metadata": {},
     "output_type": "execute_result"
    }
   ],
   "source": [
    "BATCH_SIZE = 256\n",
    "NUM_ACTIONS = 9\n",
    "SEED = 42\n",
    "\n",
    "torch.manual_seed(SEED)\n",
    "device = torch.device(\"cuda\" if torch.cuda.is_available() else \"cpu\")\n",
    "\n",
    "# Load dataset\n",
    "dataset = h5dataset.H5Dataset(DATASET_PATH)\n",
    "train_dataset, val_dataset = dataset.split(0.99)\n",
    "\n",
    "val_loader = torch.utils.data.DataLoader(val_dataset, batch_size=BATCH_SIZE, shuffle=False, num_workers=8)\n",
    "\n",
    "# Load model\n",
    "model_gan_untrained = model_dnn.ModelDNN(\n",
    "    \"JassPlayGenUntrained\",\n",
    "    input_size=72,\n",
    "    embedding_size=13,\n",
    "    hidden_size=[512, 256, 128],\n",
    "    output_size=9,\n",
    ")\n",
    "model_gan_untrained.to(device)\n",
    "\n",
    "model_gan = model_dnn.ModelDNN(\n",
    "    \"JassPlayGen\",\n",
    "    input_size=72,\n",
    "    embedding_size=13,\n",
    "    hidden_size=[512, 256, 128],\n",
    "    output_size=9,\n",
    ")\n",
    "model_gan.load_state_dict(torch.load(os.path.join(MODLE_PATH, 'play_gan', 'JassGanGen_512_256_128_dnn.pth')))\n",
    "model_gan.to(device)\n",
    "model_gan.eval()\n",
    "model_sl = model_dnn.ModelDNN(\n",
    "    \"JassPlaySL\",\n",
    "    input_size=72,\n",
    "    embedding_size=13,\n",
    "    hidden_size=[512, 256, 128],\n",
    "    output_size=9,\n",
    ")\n",
    "model_sl.load_state_dict(torch.load(os.path.join(MODLE_PATH, 'play', 'JassPlay_512_256_128_dnn.pth')))\n",
    "model_sl.to(device) \n",
    "model_sl.eval()\n"
   ]
  },
  {
   "cell_type": "code",
   "execution_count": 4,
   "id": "0d0f4283",
   "metadata": {},
   "outputs": [
    {
     "name": "stderr",
     "output_type": "stream",
     "text": [
      "Creating vectors for JassPlayGen_512_256_128_dnn: 100%|██████████| 867/867 [00:05<00:00, 144.86batch/s]\n",
      "Creating vectors for JassPlayGenUntrained_512_256_128_dnn: 100%|██████████| 867/867 [00:05<00:00, 148.72batch/s]\n"
     ]
    }
   ],
   "source": [
    "# Containers\n",
    "def create_state_action(model, loader):\n",
    "    fake_combined = []\n",
    "    real_combined = []\n",
    "    with torch.no_grad():\n",
    "        \n",
    "        for state, action in tqdm(loader, desc=f\"Creating vectors for {model.name}\", unit=\"batch\"):\n",
    "            state, action = state.to(device), action.to(device)\n",
    "\n",
    "            # Get action predictions\n",
    "            logits = model(state)\n",
    "            fake_actions = logits.argmax(dim=1)\n",
    "\n",
    "            # Convert actions to one-hot\n",
    "            oh_fake_actions = F.one_hot(fake_actions.view(-1), num_classes=NUM_ACTIONS).float()\n",
    "            oh_real_actions = F.one_hot(action.view(-1), num_classes=NUM_ACTIONS).float()\n",
    "            em_state = model.forward_embedded(state)\n",
    "\n",
    "            # Combine input (state) with action vector\n",
    "            fake_combined.append(torch.cat([em_state.cpu(), oh_fake_actions.cpu()], dim=1))\n",
    "            real_combined.append(torch.cat([em_state.cpu(), oh_real_actions.cpu()], dim=1))\n",
    "\n",
    "    fake_combined = torch.cat(fake_combined, dim=0)\n",
    "    real_combined = torch.cat(real_combined, dim=0)\n",
    "\n",
    "    return fake_combined.numpy(), real_combined.numpy()\n",
    "\n",
    "labels = []\n",
    "gan_fake, gan_real = create_state_action(model_gan, val_loader)\n",
    "labels.extend([\"gan_fake\"] * len(gan_fake))\n",
    "labels.extend([\"gan_real\"] * len(gan_real))\n",
    "\n",
    "gan_untrained_fake, gan_untrained_real = create_state_action(model_gan_untrained, val_loader)\n",
    "labels.extend([\"gan_fake\"] * len(gan_untrained_fake))\n",
    "labels.extend([\"gan_real\"] * len(gan_untrained_real))\n",
    "\n"
   ]
  },
  {
   "cell_type": "code",
   "execution_count": 5,
   "id": "58370f23",
   "metadata": {},
   "outputs": [
    {
     "name": "stderr",
     "output_type": "stream",
     "text": [
      "UMAP embedding:   0%|          | 0/443706 [00:00<?, ?sample/s]"
     ]
    },
    {
     "name": "stdout",
     "output_type": "stream",
     "text": [
      "UMAP(n_neighbors=10, verbose=True)\n",
      "Fri Jul 18 23:41:12 2025 Construct fuzzy simplicial set\n",
      "Fri Jul 18 23:41:12 2025 Finding Nearest Neighbors\n",
      "Fri Jul 18 23:41:12 2025 Building RP forest with 38 trees\n",
      "Fri Jul 18 23:41:45 2025 NN descent for 19 iterations\n",
      "\t 1  /  19\n",
      "\t 2  /  19\n",
      "\t 3  /  19\n",
      "\t 4  /  19\n",
      "\t 5  /  19\n",
      "\tStopping threshold met -- exiting after 5 iterations\n",
      "Fri Jul 18 23:41:58 2025 Finished Nearest Neighbor Search\n",
      "Fri Jul 18 23:42:01 2025 Construct embedding\n"
     ]
    },
    {
     "name": "stderr",
     "output_type": "stream",
     "text": [
      "c:\\Users\\sollb\\Documents\\fhnw\\ip5\\IP5-Jass-AI\\training\\.venv\\Lib\\site-packages\\sklearn\\manifold\\_spectral_embedding.py:328: UserWarning: Graph is not fully connected, spectral embedding may not work as expected.\n",
      "  warnings.warn(\n",
      "c:\\Users\\sollb\\Documents\\fhnw\\ip5\\IP5-Jass-AI\\training\\.venv\\Lib\\site-packages\\sklearn\\manifold\\_spectral_embedding.py:453: UserWarning: Exited at iteration 18 with accuracies \n",
      "[1.16959631e-05 1.42915669e-05 6.29891977e-06 1.12368047e-04]\n",
      "not reaching the requested tolerance 1.6361474990844727e-05.\n",
      "Use iteration 18 instead with accuracy \n",
      "3.6163624110348755e-05.\n",
      "\n",
      "  _, diffusion_map = lobpcg(\n",
      "c:\\Users\\sollb\\Documents\\fhnw\\ip5\\IP5-Jass-AI\\training\\.venv\\Lib\\site-packages\\sklearn\\manifold\\_spectral_embedding.py:453: UserWarning: Exited postprocessing with accuracies \n",
      "[1.16959727e-05 1.42915668e-05 6.29890230e-06 1.12368047e-04]\n",
      "not reaching the requested tolerance 1.6361474990844727e-05.\n",
      "  _, diffusion_map = lobpcg(\n"
     ]
    },
    {
     "name": "stdout",
     "output_type": "stream",
     "text": [
      "\tcompleted  0  /  200 epochs\n"
     ]
    },
    {
     "name": "stderr",
     "output_type": "stream",
     "text": []
    },
    {
     "name": "stdout",
     "output_type": "stream",
     "text": [
      "\tcompleted  20  /  200 epochs\n"
     ]
    },
    {
     "name": "stderr",
     "output_type": "stream",
     "text": []
    },
    {
     "name": "stdout",
     "output_type": "stream",
     "text": [
      "\tcompleted  40  /  200 epochs\n"
     ]
    },
    {
     "name": "stderr",
     "output_type": "stream",
     "text": []
    },
    {
     "name": "stdout",
     "output_type": "stream",
     "text": [
      "\tcompleted  60  /  200 epochs\n"
     ]
    },
    {
     "name": "stderr",
     "output_type": "stream",
     "text": []
    },
    {
     "name": "stdout",
     "output_type": "stream",
     "text": [
      "\tcompleted  80  /  200 epochs\n"
     ]
    },
    {
     "name": "stderr",
     "output_type": "stream",
     "text": []
    },
    {
     "name": "stdout",
     "output_type": "stream",
     "text": [
      "\tcompleted  100  /  200 epochs\n"
     ]
    },
    {
     "name": "stderr",
     "output_type": "stream",
     "text": [
      "\n"
     ]
    },
    {
     "name": "stdout",
     "output_type": "stream",
     "text": [
      "\tcompleted  120  /  200 epochs\n"
     ]
    },
    {
     "name": "stderr",
     "output_type": "stream",
     "text": [
      "UMAP fit:  62%| ██████▎    125/200 [00:06]\u001b[A\n"
     ]
    },
    {
     "name": "stdout",
     "output_type": "stream",
     "text": [
      "\tcompleted  140  /  200 epochs\n"
     ]
    },
    {
     "name": "stderr",
     "output_type": "stream",
     "text": [
      "UMAP fit:  72%| ███████▎   145/200 [00:07]\u001b[A"
     ]
    },
    {
     "name": "stdout",
     "output_type": "stream",
     "text": [
      "\tcompleted  160  /  200 epochs\n"
     ]
    },
    {
     "name": "stderr",
     "output_type": "stream",
     "text": []
    },
    {
     "name": "stdout",
     "output_type": "stream",
     "text": [
      "\tcompleted  180  /  200 epochs\n"
     ]
    },
    {
     "name": "stderr",
     "output_type": "stream",
     "text": [
      "UMAP fit: 100%| ██████████ 200/200 [00:10]\n"
     ]
    },
    {
     "name": "stdout",
     "output_type": "stream",
     "text": [
      "Fri Jul 18 23:57:09 2025 Finished embedding\n"
     ]
    },
    {
     "name": "stderr",
     "output_type": "stream",
     "text": [
      "UMAP embedding:   0%|          | 0/443706 [16:07<?, ?sample/s]\n"
     ]
    },
    {
     "name": "stdout",
     "output_type": "stream",
     "text": [
      "UMAP(n_neighbors=10, verbose=True)\n",
      "Fri Jul 18 23:57:20 2025 Construct fuzzy simplicial set\n",
      "Fri Jul 18 23:57:20 2025 Finding Nearest Neighbors\n",
      "Fri Jul 18 23:57:21 2025 Building RP forest with 38 trees\n",
      "Fri Jul 18 23:57:42 2025 NN descent for 19 iterations\n",
      "\t 1  /  19\n",
      "\t 2  /  19\n",
      "\t 3  /  19\n",
      "\t 4  /  19\n",
      "\t 5  /  19\n",
      "\t 6  /  19\n",
      "\tStopping threshold met -- exiting after 6 iterations\n",
      "Fri Jul 18 23:57:52 2025 Finished Nearest Neighbor Search\n",
      "Fri Jul 18 23:57:53 2025 Construct embedding\n"
     ]
    },
    {
     "name": "stderr",
     "output_type": "stream",
     "text": [
      "UMAP fit:   2%| ▎          5/200 [00:00]"
     ]
    },
    {
     "name": "stdout",
     "output_type": "stream",
     "text": [
      "\tcompleted  0  /  200 epochs\n"
     ]
    },
    {
     "name": "stderr",
     "output_type": "stream",
     "text": [
      "UMAP fit:  12%| █▏         24/200 [00:01]"
     ]
    },
    {
     "name": "stdout",
     "output_type": "stream",
     "text": [
      "\tcompleted  20  /  200 epochs\n"
     ]
    },
    {
     "name": "stderr",
     "output_type": "stream",
     "text": [
      "UMAP fit:  21%| ██         42/200 [00:01]"
     ]
    },
    {
     "name": "stdout",
     "output_type": "stream",
     "text": [
      "\tcompleted  40  /  200 epochs\n"
     ]
    },
    {
     "name": "stderr",
     "output_type": "stream",
     "text": [
      "UMAP fit:  32%| ███▏       63/200 [00:02]"
     ]
    },
    {
     "name": "stdout",
     "output_type": "stream",
     "text": [
      "\tcompleted  60  /  200 epochs\n"
     ]
    },
    {
     "name": "stderr",
     "output_type": "stream",
     "text": [
      "UMAP fit:  42%| ████▏      84/200 [00:03]"
     ]
    },
    {
     "name": "stdout",
     "output_type": "stream",
     "text": [
      "\tcompleted  80  /  200 epochs\n"
     ]
    },
    {
     "name": "stderr",
     "output_type": "stream",
     "text": [
      "UMAP fit:  51%| █████      102/200 [00:04]"
     ]
    },
    {
     "name": "stdout",
     "output_type": "stream",
     "text": [
      "\tcompleted  100  /  200 epochs\n"
     ]
    },
    {
     "name": "stderr",
     "output_type": "stream",
     "text": [
      "UMAP fit:  62%| ██████▏    123/200 [00:05]"
     ]
    },
    {
     "name": "stdout",
     "output_type": "stream",
     "text": [
      "\tcompleted  120  /  200 epochs\n"
     ]
    },
    {
     "name": "stderr",
     "output_type": "stream",
     "text": [
      "UMAP fit:  72%| ███████▏   143/200 [00:06]"
     ]
    },
    {
     "name": "stdout",
     "output_type": "stream",
     "text": [
      "\tcompleted  140  /  200 epochs\n"
     ]
    },
    {
     "name": "stderr",
     "output_type": "stream",
     "text": [
      "UMAP fit:  82%| ████████▏  163/200 [00:08]"
     ]
    },
    {
     "name": "stdout",
     "output_type": "stream",
     "text": [
      "\tcompleted  160  /  200 epochs\n"
     ]
    },
    {
     "name": "stderr",
     "output_type": "stream",
     "text": [
      "UMAP fit:  92%| █████████▏ 184/200 [00:09]"
     ]
    },
    {
     "name": "stdout",
     "output_type": "stream",
     "text": [
      "\tcompleted  180  /  200 epochs\n"
     ]
    },
    {
     "name": "stderr",
     "output_type": "stream",
     "text": [
      "UMAP fit: 100%| ██████████ 200/200 [00:09]\n"
     ]
    },
    {
     "name": "stdout",
     "output_type": "stream",
     "text": [
      "Fri Jul 18 23:59:24 2025 Finished embedding\n"
     ]
    }
   ],
   "source": [
    "def reducer(vecs):\n",
    "    umap.tqdm_progress = tqdm(total=vecs.shape[0], desc=\"UMAP embedding\", unit=\"sample\")\n",
    "    reducer = umap.UMAP(n_neighbors=10, min_dist=0.1, n_components=2, verbose=True, tqdm_kwds={'desc': 'UMAP fit', 'leave': True})\n",
    "    embedding = reducer.fit_transform(vecs)\n",
    "    return embedding\n",
    "\n",
    "all_vecs_gan = np.vstack([gan_fake, gan_real])\n",
    "all_vecs_untrained = np.vstack([gan_untrained_fake, gan_untrained_real])\n",
    "embedding_gan = reducer(all_vecs_gan)\n",
    "embedding_untrained = reducer(all_vecs_untrained)"
   ]
  },
  {
   "cell_type": "code",
   "execution_count": null,
   "id": "4f8b4f0d",
   "metadata": {},
   "outputs": [
    {
     "ename": "IndexError",
     "evalue": "boolean index did not match indexed array along axis 0; size of axis is 443706 but size of corresponding boolean axis is 887412",
     "output_type": "error",
     "traceback": [
      "\u001b[31m---------------------------------------------------------------------------\u001b[39m",
      "\u001b[31mIndexError\u001b[39m                                Traceback (most recent call last)",
      "\u001b[36mCell\u001b[39m\u001b[36m \u001b[39m\u001b[32mIn[6]\u001b[39m\u001b[32m, line 52\u001b[39m\n\u001b[32m     48\u001b[39m     plt.title(\u001b[33m\"\u001b[39m\u001b[33mUMAP: Real vs GAN (State + Action)\u001b[39m\u001b[33m\"\u001b[39m)\n\u001b[32m     50\u001b[39m     plt.show()\n\u001b[32m---> \u001b[39m\u001b[32m52\u001b[39m \u001b[43mplot_embedding\u001b[49m\u001b[43m(\u001b[49m\u001b[43membedding_gan\u001b[49m\u001b[43m,\u001b[49m\u001b[43m \u001b[49m\u001b[43mlabels\u001b[49m\u001b[43m)\u001b[49m\n\u001b[32m     53\u001b[39m plot_embedding(embedding_untrained, labels)\n",
      "\u001b[36mCell\u001b[39m\u001b[36m \u001b[39m\u001b[32mIn[6]\u001b[39m\u001b[32m, line 17\u001b[39m, in \u001b[36mplot_embedding\u001b[39m\u001b[34m(embedding, labels)\u001b[39m\n\u001b[32m     13\u001b[39m ax = plt.gca()\n\u001b[32m     15\u001b[39m \u001b[38;5;66;03m# Create scatter plots and keep the handles\u001b[39;00m\n\u001b[32m     16\u001b[39m sc1 = ax.scatter(\n\u001b[32m---> \u001b[39m\u001b[32m17\u001b[39m     \u001b[43membedding\u001b[49m\u001b[43m[\u001b[49m\u001b[43mgan_fake_mask\u001b[49m\u001b[43m,\u001b[49m\u001b[43m \u001b[49m\u001b[32;43m0\u001b[39;49m\u001b[43m]\u001b[49m,\n\u001b[32m     18\u001b[39m     embedding[gan_fake_mask, \u001b[32m1\u001b[39m],\n\u001b[32m     19\u001b[39m     c=label_to_color[\u001b[33m\"\u001b[39m\u001b[33mgan_fake\u001b[39m\u001b[33m\"\u001b[39m],\n\u001b[32m     20\u001b[39m     s=\u001b[32m1\u001b[39m,\n\u001b[32m     21\u001b[39m     alpha=\u001b[32m1\u001b[39m,\n\u001b[32m     22\u001b[39m     label=\u001b[33m\"\u001b[39m\u001b[33mGAN Fake\u001b[39m\u001b[33m\"\u001b[39m\n\u001b[32m     23\u001b[39m )\n\u001b[32m     24\u001b[39m sc2 = ax.scatter(\n\u001b[32m     25\u001b[39m     embedding[gan_real_mask, \u001b[32m0\u001b[39m],\n\u001b[32m     26\u001b[39m     embedding[gan_real_mask, \u001b[32m1\u001b[39m],\n\u001b[32m   (...)\u001b[39m\u001b[32m     30\u001b[39m     label=\u001b[33m\"\u001b[39m\u001b[33mGAN Real\u001b[39m\u001b[33m\"\u001b[39m\n\u001b[32m     31\u001b[39m )\n\u001b[32m     33\u001b[39m \u001b[38;5;66;03m# Now create the legend with custom marker size\u001b[39;00m\n",
      "\u001b[31mIndexError\u001b[39m: boolean index did not match indexed array along axis 0; size of axis is 443706 but size of corresponding boolean axis is 887412"
     ]
    },
    {
     "data": {
      "image/png": "[encoded data removed]",
      "text/plain": [
       "<Figure size 1000x800 with 1 Axes>"
      ]
     },
     "metadata": {},
     "output_type": "display_data"
    }
   ],
   "source": [
    "def plot_embedding(embedding, labels):\n",
    "    # Define color mapping and readable labels\n",
    "    label_to_color = {\n",
    "        \"gan_fake\": \"#7a170a\",  # orange\n",
    "        \"gan_real\": \"#024461\",  # light blue\n",
    "    }\n",
    "\n",
    "    # Create boolean masks\n",
    "    gan_fake_mask = np.array(labels) == \"gan_fake\"\n",
    "    gan_real_mask = np.array(labels) == \"gan_real\"\n",
    "\n",
    "    plt.figure(figsize=(10, 8))\n",
    "    ax = plt.gca()\n",
    "\n",
    "    # Create scatter plots and keep the handles\n",
    "    sc1 = ax.scatter(\n",
    "        embedding[gan_fake_mask, 0],\n",
    "        embedding[gan_fake_mask, 1],\n",
    "        c=label_to_color[\"gan_fake\"],\n",
    "        s=1,\n",
    "        alpha=1,\n",
    "        label=\"GAN Fake\"\n",
    "    )\n",
    "    sc2 = ax.scatter(\n",
    "        embedding[gan_real_mask, 0],\n",
    "        embedding[gan_real_mask, 1],\n",
    "        c=label_to_color[\"gan_real\"],\n",
    "        s=1,\n",
    "        alpha=1,\n",
    "        label=\"GAN Real\"\n",
    "    )\n",
    "\n",
    "    # Now create the legend with custom marker size\n",
    "    legend = ax.legend(\n",
    "        handles=[sc1, sc2],\n",
    "        labels=[\"GAN Fake\", \"GAN Real\"],\n",
    "        loc=\"best\",\n",
    "        fontsize=10,\n",
    "        scatterpoints=1,\n",
    "        markerscale=5  # Scale scatter marker size in legend\n",
    "    )\n",
    "\n",
    "    # Clean up axes and background\n",
    "    for spine in ax.spines.values():\n",
    "        spine.set_color('white')\n",
    "    plt.xticks([])\n",
    "    plt.yticks([])\n",
    "    plt.title(\"UMAP: Real vs GAN (State + Action)\")\n",
    "\n",
    "    plt.show()\n",
    "\n",
    "labels = []\n",
    "labels.extend([\"gan_fake\"] * len(gan_fake))\n",
    "labels.extend([\"gan_real\"] * len(gan_real))\n",
    "\n",
    "plot_embedding(embedding_gan, labels)\n",
    "plot_embedding(embedding_untrained, labels)\n"
   ]
  }
 ],
 "metadata": {
  "kernelspec": {
   "display_name": ".venv",
   "language": "python",
   "name": "python3"
  },
  "language_info": {
   "codemirror_mode": {
    "name": "ipython",
    "version": 3
   },
   "file_extension": ".py",
   "mimetype": "text/x-python",
   "name": "python",
   "nbconvert_exporter": "python",
   "pygments_lexer": "ipython3",
   "version": "3.12.10"
  }
 },
 "nbformat": 4,
 "nbformat_minor": 5
}
